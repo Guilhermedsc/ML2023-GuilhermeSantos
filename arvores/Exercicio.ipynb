{
 "cells": [
  {
   "cell_type": "markdown",
   "metadata": {},
   "source": [
    "## Exercício - Titanic\n",
    "disponível em https://www.kaggle.com/c/titanic/overview"
   ]
  },
  {
   "cell_type": "markdown",
   "metadata": {},
   "source": [
    "#### Descrição\n",
    "O naufrágio do RMS Titanic é um dos naufrágios mais famosos da história. Em 15 de abril de 1912, durante sua viagem inaugural, o Titanic afundou após colidir com um iceberg, matando 1502 de 2224 passageiros e tripulantes. Essa tragédia chocou a comunidade internacional e levou a melhores regulamentações de segurança para os navios.\n",
    "\n",
    "Uma das razões pelas quais o naufrágio levou a tal perda de vidas foi que não havia botes salva-vidas suficientes para os passageiros e a tripulação. Embora houvesse algum elemento de sorte envolvido na sobrevivência do naufrágio, alguns grupos de pessoas eram mais propensos a sobreviver do que outros, como mulheres, crianças e a classe alta.\n",
    "\n",
    "Nesse desafio, a atividade é que você conclua a análise de que tipo de pessoa provavelmente sobreviverá. Em particular, solicitamos você deve aplicar classificadores de árvores de decisão para esta atividade.\n"
   ]
  },
  {
   "cell_type": "markdown",
   "metadata": {},
   "source": [
    "### Descrição do dataset\n",
    "Os dados foram divididos em dois grupos:\n",
    "\n",
    "conjunto de treinamento (train.csv)\n",
    "conjunto de teste (test.csv)\n",
    "O conjunto de treinamento deve ser usado para criar seus modelos de aprendizado de máquina. Para o conjunto de treinamento, fornecemos o resultado (também conhecido como \"verdade do solo\") para cada passageiro. Seu modelo será baseado em \"atributos\", como sexo e classe dos passageiros. Você também pode usar a engenharia de atributos para criar novos atributos.\n",
    "\n",
    "Parte do conjunto de treino deve ser usado para ver o desempenho do seu modelo em dados não vistos. \n",
    "\n",
    "Para o conjunto de testes, não é fornecido o rótulo de classe para cada passageiro. É seu trabalho prever esses resultados. Para cada passageiro no conjunto de testes, use o modelo que você treinou para prever se eles sobreviveram ou não ao naufrágio do Titanic. O resultado deve ser submetido na plataforma Kaggle (opção **submit predictions**) a fim de calcular a acurácia. \n",
    "\n",
    "Também incluímos gender_submission.csv, um conjunto de previsões que supõem que todas e apenas passageiras sobrevivem, como um exemplo da aparência de um arquivo de envio."
   ]
  },
  {
   "cell_type": "markdown",
   "metadata": {},
   "source": [
    "### Dicionário de Dados\n",
    "\n",
    "**Variable -\tDefinition\t- Key**\n",
    "\n",
    "survival - Survival\t- 0 = No, 1 = Yes\n",
    "\n",
    "pclass -\tTicket class -\t1 = 1st, 2 = 2nd, 3 = 3rd\n",
    "\n",
    "sex -\tSex\t\n",
    "\n",
    "Age\t- Age in years\t\n",
    "\n",
    "sibsp -\t# of siblings / spouses aboard the Titanic\t\n",
    "\n",
    "parch- # of parents / children aboard the Titanic\t\n",
    "\n",
    "ticket - Ticket number\t\n",
    "\n",
    "fare - Passenger fare\t\n",
    "\n",
    "cabin- Cabin number\t\n",
    "\n",
    "embarked- Port of Embarkation\tC = Cherbourg, Q = Queenstown, S = Southampton"
   ]
  },
  {
   "cell_type": "code",
   "execution_count": 25,
   "metadata": {},
   "outputs": [],
   "source": [
    "import numpy as np\n",
    "import pandas as pd\n",
    "from sklearn.tree import DecisionTreeClassifier\n",
    "from sklearn.model_selection import train_test_split\n",
    "from sklearn.linear_model import LogisticRegression\n",
    "from sklearn.ensemble import RandomForestClassifier\n",
    "from sklearn.ensemble import GradientBoostingClassifier\n",
    "from sklearn.tree import DecisionTreeClassifier\n",
    "from sklearn.neighbors import KNeighborsClassifier\n",
    "from sklearn.naive_bayes import GaussianNB\n",
    "from sklearn.svm import SVC\n",
    "from sklearn.metrics import accuracy_score"
   ]
  },
  {
   "cell_type": "code",
   "execution_count": null,
   "metadata": {},
   "outputs": [],
   "source": [
    "# Carregando o conjunto de dados de treinamento\n",
    "\n",
    "train_data = pd.read_csv(\"train.csv\")\n",
    "train_data.head()"
   ]
  },
  {
   "cell_type": "code",
   "execution_count": null,
   "metadata": {},
   "outputs": [],
   "source": [
    "# Carregando o conjunto de dados de teste\n",
    "test_data = pd.read_csv(\"test.csv\")\n",
    "test_data.head()"
   ]
  },
  {
   "cell_type": "code",
   "execution_count": null,
   "metadata": {},
   "outputs": [],
   "source": [
    "# Media dos valores de sobreviventes para mulheres\n",
    "women = train_data.loc[train_data.Sex == 'female'][\"Survived\"]\n",
    "rate_women = sum(women)/len(women)\n",
    "\n",
    "print(\"% mulheres sobreviventes:\", rate_women)"
   ]
  },
  {
   "cell_type": "code",
   "execution_count": null,
   "metadata": {},
   "outputs": [],
   "source": [
    "# Media dos valores de sobreviventes para homens\n",
    "men = train_data.loc[train_data.Sex == 'male']['Survived']\n",
    "rate_men = sum(men)/len(men)\n",
    "\n",
    "print(\"% homens sobreviventes:\", rate_men)"
   ]
  },
  {
   "cell_type": "code",
   "execution_count": 13,
   "metadata": {},
   "outputs": [],
   "source": [
    "def clean(df):\n",
    "    df.drop(['Cabin','Name','Ticket','Embarked','Fare'],axis=1,inplace=True)\n",
    "    df.Age=df.Age.fillna(df.Age.median())\n",
    "    df.dropna()\n",
    "    return df"
   ]
  },
  {
   "cell_type": "code",
   "execution_count": null,
   "metadata": {},
   "outputs": [],
   "source": [
    "clean(train_data)\n",
    "clean(test_data)"
   ]
  },
  {
   "cell_type": "code",
   "execution_count": null,
   "metadata": {},
   "outputs": [],
   "source": [
    "# processando os dados\n",
    "train_data.Sex=pd.get_dummies(train_data.Sex,drop_first=True)\n",
    "test_data.Sex=pd.get_dummies(train_data.Sex,drop_first=True)\n",
    "\n",
    "test_data.head()"
   ]
  },
  {
   "cell_type": "code",
   "execution_count": 19,
   "metadata": {},
   "outputs": [],
   "source": [
    "# criando modelo\n",
    "\n",
    "accuracies=[]\n",
    "\n",
    "x=train_data.drop(['Survived'],axis=1)\n",
    "y=train_data['Survived']\n",
    "\n",
    "x_train,x_test,y_train,y_test = train_test_split(x,y,test_size=.2)"
   ]
  },
  {
   "cell_type": "code",
   "execution_count": 20,
   "metadata": {},
   "outputs": [],
   "source": [
    "# def modelo\n",
    "def model(model_name):\n",
    "    model_name.fit(x_train,y_train)\n",
    "    pre=model_name.predict(x_test)\n",
    "    accuracy=accuracy_score(pre,y_test)\n",
    "    print('Accuracy : ',accuracy)\n",
    "    accuracies.append(accuracy)"
   ]
  },
  {
   "cell_type": "code",
   "execution_count": 28,
   "metadata": {},
   "outputs": [
    {
     "name": "stdout",
     "output_type": "stream",
     "text": [
      "Accuracy :  0.8044692737430168\n"
     ]
    }
   ],
   "source": [
    "Algorithm=['GradientBoostingClassifier']\n",
    "\n",
    "model_name= GradientBoostingClassifier()\n",
    "model(model_name)"
   ]
  },
  {
   "cell_type": "code",
   "execution_count": 27,
   "metadata": {},
   "outputs": [],
   "source": [
    "# Gerando arquivo para submissão no Kaggle\n",
    "best_model=GradientBoostingClassifier()\n",
    "best_model.fit(x_train,y_train)\n",
    "GradientBoostingClassifier()\n",
    "pre=best_model.predict(test_data) \n",
    "final=test_data.PassengerId  \n",
    "df=pd.DataFrame({'PassengerId':final,'Survived':pre}) \n",
    "df.to_csv('submission2.csv',index=False)\n",
    "\n",
    "# Score: 0.65311"
   ]
  }
 ],
 "metadata": {
  "kernelspec": {
   "display_name": "Python 3",
   "language": "python",
   "name": "python3"
  },
  "language_info": {
   "codemirror_mode": {
    "name": "ipython",
    "version": 3
   },
   "file_extension": ".py",
   "mimetype": "text/x-python",
   "name": "python",
   "nbconvert_exporter": "python",
   "pygments_lexer": "ipython3",
   "version": "3.9.16"
  }
 },
 "nbformat": 4,
 "nbformat_minor": 2
}
