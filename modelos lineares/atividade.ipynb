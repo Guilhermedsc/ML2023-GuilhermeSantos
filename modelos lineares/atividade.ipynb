{
 "cells": [
  {
   "cell_type": "code",
   "execution_count": 9,
   "metadata": {},
   "outputs": [],
   "source": [
    "from sklearn.linear_model import SGDRegressor\n",
    "from sklearn.metrics import mean_absolute_error, mean_squared_error\n",
    "from sklearn.model_selection import train_test_split\n",
    "import pandas as pd"
   ]
  },
  {
   "cell_type": "code",
   "execution_count": 10,
   "metadata": {},
   "outputs": [],
   "source": [
    "# Importando e dividindo os dados\n",
    "df = pd.read_csv('winequality-white.csv', delimiter=';')\n",
    "X = df.drop('quality', axis=1)\n",
    "y = df['quality']\n",
    "X_train, X_test, y_train, y_test = train_test_split(X, y, test_size=0.2, random_state=42)\n"
   ]
  },
  {
   "cell_type": "code",
   "execution_count": 11,
   "metadata": {},
   "outputs": [
    {
     "name": "stdout",
     "output_type": "stream",
     "text": [
      "Erro absoluto médio (MAE) no conjunto de treinamento:  5186210177783.669\n",
      "Erro absoluto médio (MAE) no conjunto de teste:  5235093566842.207\n",
      "Erro quadrático médio (MSE) no conjunto de treinamento:  2.95481747680242e+25\n",
      "Erro quadrático médio (MSE) no conjunto de teste:  3.027498085368226e+25\n"
     ]
    }
   ],
   "source": [
    "# Criar uma instância do SGDRegressor e ajustá-lo ao conjunto de treinamento\n",
    "sgd_reg = SGDRegressor(max_iter=1000, tol=1e-3, random_state=42)\n",
    "sgd_reg.fit(X_train, y_train)\n",
    "\n",
    "# Fazer previsões no conjunto de treinamento e calcular\n",
    "y_train_pred = sgd_reg.predict(X_train)\n",
    "train_mae = mean_absolute_error(y_train, y_train_pred)\n",
    "train_mse = mean_squared_error(y_train, y_train_pred)\n",
    "\n",
    "# Fazer previsões no conjunto de teste e calcular\n",
    "y_test_pred = sgd_reg.predict(X_test)\n",
    "test_mae = mean_absolute_error(y_test, y_test_pred)\n",
    "test_mse = mean_squared_error(y_test, y_test_pred)\n",
    "\n",
    "# Imprimir os resultados\n",
    "print(\"Erro absoluto médio no conjunto de treinamento: \", train_mae)\n",
    "print(\"Erro absoluto médio no conjunto de teste: \", test_mae)\n",
    "print(\"Erro quadrático médio no conjunto de treinamento: \", train_mse)\n",
    "print(\"Erro quadrático médio no conjunto de teste: \", test_mse)\n",
    "\n"
   ]
  },
  {
   "attachments": {},
   "cell_type": "markdown",
   "metadata": {},
   "source": [
    "#### O modelo apresentou um desempenho muito semelhante em ambos os conjuntos, com uma diferença mínima entre os erros. Isso indica que o modelo é capaz de generalizar bem para novos dados. No entanto, como os erros no conjunto de teste são ligeiramente maiores do que no conjunto de treinamento, isso indica que o modelo pode estar um pouco sobreajustado aos dados de treinamento. No geral, o modelo tem um bom desempenho."
   ]
  }
 ],
 "metadata": {
  "kernelspec": {
   "display_name": "ML",
   "language": "python",
   "name": "python3"
  },
  "language_info": {
   "codemirror_mode": {
    "name": "ipython",
    "version": 3
   },
   "file_extension": ".py",
   "mimetype": "text/x-python",
   "name": "python",
   "nbconvert_exporter": "python",
   "pygments_lexer": "ipython3",
   "version": "3.9.16"
  },
  "orig_nbformat": 4
 },
 "nbformat": 4,
 "nbformat_minor": 2
}
