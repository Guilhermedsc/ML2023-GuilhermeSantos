{
 "cells": [
  {
   "attachments": {},
   "cell_type": "markdown",
   "metadata": {},
   "source": [
    "Validação cruzada com dados Breast Cancer Dataset UCI Machine Learning Repository."
   ]
  },
  {
   "cell_type": "code",
   "execution_count": 28,
   "metadata": {},
   "outputs": [],
   "source": [
    "import pandas as pd\n",
    "from sklearn.model_selection import train_test_split\n",
    "from sklearn.tree import DecisionTreeClassifier\n",
    "\n",
    "# carrega os dados\n",
    "data = pd.read_csv('data.csv')\n"
   ]
  },
  {
   "cell_type": "code",
   "execution_count": 38,
   "metadata": {},
   "outputs": [],
   "source": [
    "# divide os dados em X e y\n",
    "X = data.iloc[:, 2:]\n",
    "y = data.iloc[:, 1]\n",
    "\n",
    "# divide os dados em treino e teste\n",
    "X_train, X_test, y_train, y_test = train_test_split(X, y, test_size=0.3)"
   ]
  },
  {
   "cell_type": "code",
   "execution_count": 50,
   "metadata": {},
   "outputs": [],
   "source": [
    "# criando os modelos de Árvore de Decisão e K-NN\n",
    "dt_models = []\n",
    "for criterion in [\"gini\", \"entropy\", \"log_loss\"]:\n",
    "    for max_depth in range(10, 101, 10):\n",
    "        dt_models.append(DecisionTreeClassifier(criterion=criterion, max_depth=max_depth))\n",
    "\n",
    "knn_models = []\n",
    "for k in [1, 3, 5, 11, 21, 31]:\n",
    "    knn_models.append(KNeighborsClassifier(n_neighbors=k))"
   ]
  },
  {
   "cell_type": "code",
   "execution_count": null,
   "metadata": {},
   "outputs": [],
   "source": [
    "# treinando e avaliando os modelos\n",
    "for model in dt_models + knn_models:\n",
    "    model.fit(X_train, y_train)\n",
    "    print(model, model.score(X_test, y_test))\n",
    "\n",
    "# selecionando o melhor modelo\n",
    "best_model = max(dt_models + knn_models, key=lambda model: model.score(X_test, y_test))\n",
    "print(best_model)"
   ]
  }
 ],
 "metadata": {
  "kernelspec": {
   "display_name": "Python 3",
   "language": "python",
   "name": "python3"
  },
  "language_info": {
   "codemirror_mode": {
    "name": "ipython",
    "version": 3
   },
   "file_extension": ".py",
   "mimetype": "text/x-python",
   "name": "python",
   "nbconvert_exporter": "python",
   "pygments_lexer": "ipython3",
   "version": "3.9.16"
  }
 },
 "nbformat": 4,
 "nbformat_minor": 2
}
